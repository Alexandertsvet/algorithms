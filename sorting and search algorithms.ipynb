{
 "cells": [
  {
   "cell_type": "code",
   "execution_count": null,
   "metadata": {},
   "outputs": [],
   "source": []
  },
  {
   "cell_type": "code",
   "execution_count": 2,
   "metadata": {},
   "outputs": [
    {
     "ename": "ModuleNotFoundError",
     "evalue": "No module named 'numpy'",
     "output_type": "error",
     "traceback": [
      "\u001b[1;31m---------------------------------------------------------------------------\u001b[0m",
      "\u001b[1;31mModuleNotFoundError\u001b[0m                       Traceback (most recent call last)",
      "\u001b[1;32md:\\my_project\\algorithms\\algorithms\\sorting and search algorithms.ipynb Ячейка 2\u001b[0m in \u001b[0;36m1\n\u001b[1;32m----> <a href='vscode-notebook-cell:/d%3A/my_project/algorithms/algorithms/sorting%20and%20search%20algorithms.ipynb#W1sZmlsZQ%3D%3D?line=0'>1</a>\u001b[0m \u001b[39mimport\u001b[39;00m \u001b[39mnumpy\u001b[39;00m \u001b[39mas\u001b[39;00m \u001b[39mnp\u001b[39;00m\n\u001b[0;32m      <a href='vscode-notebook-cell:/d%3A/my_project/algorithms/algorithms/sorting%20and%20search%20algorithms.ipynb#W1sZmlsZQ%3D%3D?line=1'>2</a>\u001b[0m \u001b[39mfrom\u001b[39;00m \u001b[39mfixture\u001b[39;00m\u001b[39m.\u001b[39;00m\u001b[39mfixture\u001b[39;00m \u001b[39mimport\u001b[39;00m LIST_TEST\n\u001b[0;32m      <a href='vscode-notebook-cell:/d%3A/my_project/algorithms/algorithms/sorting%20and%20search%20algorithms.ipynb#W1sZmlsZQ%3D%3D?line=2'>3</a>\u001b[0m \u001b[39mfrom\u001b[39;00m \u001b[39mfunctions\u001b[39;00m\u001b[39m.\u001b[39;00m\u001b[39mfunctions\u001b[39;00m \u001b[39mimport\u001b[39;00m clock\n",
      "\u001b[1;31mModuleNotFoundError\u001b[0m: No module named 'numpy'"
     ]
    }
   ],
   "source": [
    "import numpy as np\n",
    "from fixture.fixture import LIST_TEST\n",
    "from functions.functions import clock"
   ]
  },
  {
   "attachments": {},
   "cell_type": "markdown",
   "metadata": {},
   "source": [
    "# Sorting and search algorithms. Алгоритмы сортировки и поиска.\n",
    "* Сортировка пузырьком (buddle sort).\n",
    "* Сортировка вставками (unsertion sort).\n",
    "* Сортировка слиянием (merge sort).\n",
    "* Сортировка Шелла (Shell sort).\n",
    "* Сортировка выбором (selection sort)."
   ]
  },
  {
   "attachments": {},
   "cell_type": "markdown",
   "metadata": {},
   "source": [
    "### Сортировка пузырьком (buddle sort).\n",
    "Cамый простой и медленный алгоритм сортировки. В основе сортировки лежит ряд итераций (проходов - passes). Для списка размером $N$ нужно совершить $(N-1)$ проход. \n",
    "Цель первого прохода - вывести наибольшее значение в конец списка, оно будет постипенно перемешаться вправо по списку.\n",
    "Значения сравниваются попарно, если в паре большее значение находится слева, происходит перестановка. Продолжется до тех пор, пока мы не дойдем до конца списка."
   ]
  },
  {
   "attachments": {},
   "cell_type": "markdown",
   "metadata": {},
   "source": [
    "Для реализации данного алгоритма используется обмен значений двух переменных между собой."
   ]
  },
  {
   "cell_type": "code",
   "execution_count": null,
   "metadata": {},
   "outputs": [
    {
     "name": "stdout",
     "output_type": "stream",
     "text": [
      "Исходное значение value1=1,value2=2\n",
      "После обмена значений value1=2,value2=1\n"
     ]
    }
   ],
   "source": [
    "value1 = 1\n",
    "value2 = 2\n",
    "print(f'Исходное значение value1={value1},value2={value2}')\n",
    "value1, value2 = value2, value1\n",
    "print(f'После обмена значений value1={value1},value2={value2}')"
   ]
  },
  {
   "cell_type": "code",
   "execution_count": null,
   "metadata": {},
   "outputs": [],
   "source": [
    "def bubblesorted(list):\n",
    "    last_element_index = len(list)-1\n",
    "    for pass_list in range(last_element_index,0,-1):\n",
    "        for idx in range(pass_list):\n",
    "            if list[idx]> list[idx+1]:\n",
    "                list[idx],list[idx+1]=list[idx+1],list[idx]\n",
    "    return list"
   ]
  },
  {
   "attachments": {},
   "cell_type": "markdown",
   "metadata": {},
   "source": [
    "Временная сложность (time complexity analysis) алгоритма cортировки пузырьком(buddle sort) $O(n^2)$"
   ]
  },
  {
   "attachments": {},
   "cell_type": "markdown",
   "metadata": {},
   "source": [
    "### Сортировка вставками(insertion sort)\n",
    "На кождой итерации удаляется елемент из структуры данных, а затем вставляется в нужную позицию.\n",
    "На первой итерации сортируется два элемента, затем берется третий элемент и находится позиция согласно его значению.\n",
    "Алгоритм выполняется до тех пор, пока не выполниться сортировка структуры данных."
   ]
  },
  {
   "cell_type": "code",
   "execution_count": null,
   "metadata": {},
   "outputs": [],
   "source": [
    "def insertion_sort(list):\n",
    "    for i in range(1,len(list)):\n",
    "        j=i-1\n",
    "        next_element = list[i]\n",
    "        while (list[j]>next_element) and (j>=0):\n",
    "            list[j+1] = list[j]\n",
    "            j=j-1\n",
    "        list[j+1] = next_element\n",
    "    return list"
   ]
  },
  {
   "attachments": {},
   "cell_type": "markdown",
   "metadata": {},
   "source": [
    "Временная сложность (time complexity analysis) алгоритма cортировки вставками(insertion sort) $O(n^2)$"
   ]
  },
  {
   "attachments": {},
   "cell_type": "markdown",
   "metadata": {},
   "source": [
    "### Сортировка слиянием(merge sort)\n",
    "Производительность алгоритма не зависит упорядоченности входных данных. \n",
    "Используется стратегия \"разделяй и властвуй\". \n",
    "На этапе разделения алгоритм рекурсивно разбивает на две части до тех пор, пока размер данных не станет меньше порогового значения.\n",
    "На этапе слияния алгоритм объединяет отсортированные части с в список и выводит результата."
   ]
  },
  {
   "cell_type": "code",
   "execution_count": null,
   "metadata": {},
   "outputs": [],
   "source": [
    "def merge_sort(list):\n",
    "    if len(list)>1:\n",
    "        mid = len(list)//2\n",
    "        left = list[:mid]\n",
    "        right = list[mid:]\n",
    "\n",
    "        merge_sort(left)\n",
    "        merge_sort(right)\n",
    "\n",
    "        a = 0\n",
    "        b = 0\n",
    "        c = 0\n",
    "\n",
    "        while a<len(left) and b < len(right):\n",
    "            if left[a] < right[b]:\n",
    "                list[c]=left[a]\n",
    "                a = a + 1\n",
    "            else:\n",
    "                list[c]=right[b]\n",
    "                b = b +1\n",
    "            c = c + 1\n",
    "        while a < len(left):\n",
    "            list[c]=left[a]\n",
    "            a = a + 1\n",
    "            c = c + 1\n",
    "        while b <len(right):\n",
    "            list[c]=right[b]\n",
    "            b = b + 1\n",
    "            c = c + 1\n",
    "    return list\n",
    "   "
   ]
  },
  {
   "cell_type": "code",
   "execution_count": null,
   "metadata": {},
   "outputs": [],
   "source": []
  },
  {
   "cell_type": "code",
   "execution_count": null,
   "metadata": {},
   "outputs": [],
   "source": []
  },
  {
   "cell_type": "code",
   "execution_count": null,
   "metadata": {},
   "outputs": [],
   "source": []
  },
  {
   "cell_type": "code",
   "execution_count": null,
   "metadata": {},
   "outputs": [],
   "source": []
  },
  {
   "cell_type": "code",
   "execution_count": null,
   "metadata": {},
   "outputs": [],
   "source": []
  },
  {
   "cell_type": "code",
   "execution_count": null,
   "metadata": {},
   "outputs": [],
   "source": []
  }
 ],
 "metadata": {
  "kernelspec": {
   "display_name": "venv",
   "language": "python",
   "name": "python3"
  },
  "language_info": {
   "codemirror_mode": {
    "name": "ipython",
    "version": 3
   },
   "file_extension": ".py",
   "mimetype": "text/x-python",
   "name": "python",
   "nbconvert_exporter": "python",
   "pygments_lexer": "ipython3",
   "version": "3.9.10"
  },
  "orig_nbformat": 4
 },
 "nbformat": 4,
 "nbformat_minor": 2
}
